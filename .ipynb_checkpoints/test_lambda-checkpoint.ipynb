{
 "cells": [
  {
   "cell_type": "code",
   "execution_count": 2,
   "id": "0bd17086-2c4d-400c-9fde-8d3c64368ed7",
   "metadata": {
    "tags": []
   },
   "outputs": [],
   "source": [
    "import lambda1 as l1\n",
    "import lambda2 as l2\n",
    "import lambda3 as l3"
   ]
  },
  {
   "cell_type": "code",
   "execution_count": 3,
   "id": "c4b2ad50-9f44-42fe-9e4d-e7a70da1aa54",
   "metadata": {
    "tags": []
   },
   "outputs": [],
   "source": [
    "event = {\"image_data\": \"\", \"s3_bucket\": \"lucialedezma-workflow-project\", \"s3_key\": \"test/minibike_s_000290.png\"}"
   ]
  },
  {
   "cell_type": "code",
   "execution_count": 4,
   "id": "959f92f4-5d1f-4890-ad82-e980bbe36023",
   "metadata": {
    "tags": []
   },
   "outputs": [
    {
     "name": "stdout",
     "output_type": "stream",
     "text": [
      "Event: dict_keys(['image_data', 's3_bucket', 's3_key'])\n"
     ]
    }
   ],
   "source": [
    "result1 = l1.lambda_handler(event=event, context=None)"
   ]
  },
  {
   "cell_type": "code",
   "execution_count": 5,
   "id": "f1fde0c7-6e4b-44a3-9f35-aa616230cbf4",
   "metadata": {
    "tags": []
   },
   "outputs": [
    {
     "data": {
      "text/plain": [
       "{'statusCode': 200,\n",
       " 'body': {'image_data': b'iVBORw0KGgoAAAANSUhEUgAAACAAAAAgCAYAAABzenr0AAAABHNCSVQICAgIfAhkiAAAAAlwSFlzAAAPYQAAD2EBqD+naQAAChZJREFUWIVtl9lvHFd2xn/33qrqfWNzESlxk0gzkizKHgqTMWQHkxnMZPckAfwYJAiSlzzkb9C/kCDv2TFPyeQhTmwFSRBPonFiW56RrI3iJlLdbHY32Wyyl+ruqnvyUEVKRnKBAqq6q+4533e+U3U+1W81BEJAAINWClAoBUorlFIACApRCrGC0orohvgxBMRytgQFSscXghaL4vUlIKC1wgn8E1A2DugiWsd7a7Q4KK2jQGiURI8riZJEQCmFQoAoAQV8PZyglZxl+mqpCKQTDnsIYYTWRAGjBAxauxitAYUoDVqfM/I6WpEQx0SIrbWABm1Q5wzZVwlIBObs1AltiBCilUJbDSKIIkIlFoWJcCmDwiAIVs62gDAM6XY7uK7B8zwcrVHaQYmDxEGtBK8loBAxaBUBdYKz3QRUKBGHSoGyWISo3Cqm/hWKMx4kHJF0HdrtFuEoQBCKpTFyuXwcUhB5jQEUYkG0AApH7AgjAuKAsnFtYhHGwtPagIoZif+PUAAygmBEMBqQUikOuy30YEQqmQTXgAhK4uRVJMozcSqlcFQYIFjEKIyJxCUCaA0WBBuXID4QRBSCworgug7NRptQLIWJcXTWpb1XZWQDjFVoGxVC8RoJZ5oQjbYiCIKIEFqLPTvC8Pw8tBaR6B5rY0rFosQiYchwMCSfzYELmUwG7ToMBgNUd0B/9wDpD2LQ8n8O56wnRQSxlpC4tbRGx3RFgW0sj1gP2LjhhOmZaVwUgd9DRiG13T0GA5/iyGH7iwes/Oq3yaenEGv5GhEiONbGPawsgsIY8/WgcUCt9av6AVpZep0Ozfo+DAe49WPqmxsEaJ61GhTKZQo9y+f/9RMu/sIaBXXhVevG9Y/aMAyxhGjloI2cB7Niz5M474DzBCLWOidtnj5+hBkNsfe+5PjBI4JchsbSJR7v7vD9W9/iyru38ApZbFzGGHhcAou2olBW4yqF0RaDRWuFcTXKWGysHmtDRiKYIHozdA72efwfn+B3Tzk9blHbq5GSFIokc4tL1BpNekr4zgfvUxgfw5cw0lUQxBqKQDguhpTVtHb2aFVeks7kmFpeRhcLWJ1AtMKKjxKFFQftW0aqx4/++q9ore8w9+1bVKpVaq0W0zZF9aTLZK1JMZFlZC3DMCAloKyQcD1QCn80xNoQYxROcNzmk4//nc37X+IddSCdYnr1KpnFq4SFC9z45nXSGRfxFQfVfWytxvbLJ3z6+X1uXb1Oxx/gFHIkFqdpNDrkFxe4+fO3uHHjBjOXL1I/apLNZNGHPg8P6ySzOSanyqTSKawVzNrs9J0f/8M/cnLQIDCGoYQc1RscHbbZ2jvA8bIUcpM8e/CMva+e09zbpddpodJJnGyGk75Pupgnn8uycnOV7/72Dxj0fObn55mcvcD+3i6jVouvPvw3/uajD/nZV4/Z2dpkbLxMuVzGjBnutBtH6EKGSlqo+6e0Dps0Ky9p1vfptEfUK12+unePysOHPNl6SnEqz9zyEo1ul/Wnz0nnckyUCqRyOZaXVtjd2OLyzy2TKWTZ+PQ+J5V9Tg5bTL25wvzCAptbG3zx5X3efPM6jk1nOc4kGL8yx2whScZ1ae+8INipwcDnaOspB3t70G7g9PqsS4uxq5N4nTK1oxa9kx7Pnq4z/s4txgsZ9ncrJByXdLnI8PSUw/tPcZIe13/tFykszJB0k6y+dYO//eEPuXv3LmZxdvrO1KUL5Ep5SukspUKRTCqN6geYoabdPUX6LaZ1wKVMlqob0hz69Ds9tOcyNzWNHw6oNGtYscyXZ0ikUsy8scijL37KT/7pXzHpBJe+uUq+kMMYTaE4RrFY5LPPPkdbCSiVckxNlqk06mxtv+Dx+ha1Xp+tTotm55iUWCZcRcb6pFyHK4srKO2STSRRSc3F6WmSrsuwfULroE5pcgqtDJt7FeqFBAu31zg9aiGBJbSCVorLl+eYKJejV3Eum6XRqON6LrlUloOXVVAhJwnFUBQnxrIvAUXPZWF+nqsrSwyGfY6OmxRLeQhD0mmPpZmL+N0ehXIJG4RU96ssXb/Km2tv8ezpE3zfR40CjEmQTqWYvTSL43ke8wvz7GxvksslWFla5trKColkgn4QonHQ3Q6DVovJfIlDY3nw8KfcWLuJdseYmipDKOSyOdxRyMiGpLIZRsGIRr3O26s3CawllctgAb/TwUukySXTjE9MoD3PI5FIkEwmaR0dsbm9zXG3w+mgT7vXpXV6wtGgh5kao2oHHHc6NJpNHj16zGAwpNf3mZycZHrqAv1Ol4lL02jPRaxlMBySzmYwnksmn6PX6yJK4fs+En/KHcc4hGGI6zjMXJxhbm4ez3NJpBJoq1HiYEMf7SrEOKgRPHi8Tt8PCEbC4sIyg16XUTCiNF5mdvkyoQYtGq01Yi2Fcon+qE9ld49irkguW8Bay3AwxAmtpdvpMjU1SbvdY79aZRSEaKDbOiGlHLykQVIO37j9DoVkgWurN6hWqlyYvkRoFUfHJwRhQC6RwGRSWAWeccnnCzQPDzHGIZVOU56YwIgimUqhtKF1fIzT6Q7Yrx2wenOJXr9Hbb/O4cERz59vsbdbYT6b5Y1rVxhkU2TyYywuLKIR1m6tUSzkeL6xwfhYkY2NTd56ew0nkYDQoh2XhYUFNp6tMxyMyGZyeE4ChcLzkgT+gMp+DXPz2tIdozXGwMzFKWYvXmTg99nc2sUfQlp7JDNpXuw3qL6osfV8m3/5+C6np22y2TQSBuy+2Mb1XL7zve/heonI4sSm5u7HH3H1+jXGymWMNrieh0LTOKjxn/c+xfzB735w59N7/00ykeFlpcqLnZesP9tke2eXX/+t98nn0jTahxTHSqQ8j9N2m2I+R+f0mNN2i+dPn5BNJ3j3vXdZvLyIFc4H2LFSiS8++5zt7W1Wb66SSCSikUKEj/75Q5Tj4dx+91t8+dl9fvzJ/5AvlBj2ezTrdb6xdoPf/OC7SM/n9PSEXD6PE0Y+wHM9et0Bw6FPOpNkYnKc0uQk/X4PUQa0JgRcY3j/B7/Bn/zpn/EXf/6XvPfee2itefCzB6w/ecIf/tEf4xijuX37HaqVJvVmExsMuDAzydtvXefF9joyCrFBSOOwjgqjqcZxHGQEjmPAFDnpOOAaMoUijpfCuC4Aw2HAG8tX+JVf/iX+7u9/xMMHD1FKg1h+//d+h/n5OdTmw0+kWatz3Opy3Gnj905wtJD1PHTSA6siT+gYVDwlG2MIgwE2HJFOJymWipTHJyiOjeMl02jHRRMNIcEooN8P2N7eoV6vE1rLwvwsS5cX0G4S1aqsiw1ClDKgQWxIGAYoEZRx0EqjlT53OWcrsgj2fODXBlzXi02MRqFfuTFROI4TDbaxlwzDAGNcHMdNYuNhNHK6Z7tz7oJeBf3/r4XIJ+gzJy2KV+4x+ikQgTByyUprtJNElOJ/AZrOH0v4dv6sAAAAAElFTkSuQmCC',\n",
       "  's3_bucket': 'lucialedezma-workflow-project',\n",
       "  's3_key': 'test/minibike_s_000290.png',\n",
       "  'inferences': []}}"
      ]
     },
     "execution_count": 5,
     "metadata": {},
     "output_type": "execute_result"
    }
   ],
   "source": [
    "result1"
   ]
  },
  {
   "cell_type": "code",
   "execution_count": 6,
   "id": "b56814d3-5177-413a-9172-7337eaa26e82",
   "metadata": {
    "tags": []
   },
   "outputs": [
    {
     "name": "stdout",
     "output_type": "stream",
     "text": [
      "b'[0.95337975025177, 0.04662025347352028]' <class 'bytes'>\n",
      "[0.95337975025177, 0.04662025347352028] <class 'str'>\n"
     ]
    }
   ],
   "source": [
    "result2 = l2.lambda_handler(event=result1, context=None)"
   ]
  },
  {
   "cell_type": "code",
   "execution_count": 7,
   "id": "c218fe42-1e1c-492c-aa31-9715d9b281ac",
   "metadata": {
    "tags": []
   },
   "outputs": [
    {
     "data": {
      "text/plain": [
       "{'statusCode': 200,\n",
       " 'body': {'statusCode': 200,\n",
       "  'body': {'image_data': b'iVBORw0KGgoAAAANSUhEUgAAACAAAAAgCAYAAABzenr0AAAABHNCSVQICAgIfAhkiAAAAAlwSFlzAAAPYQAAD2EBqD+naQAAChZJREFUWIVtl9lvHFd2xn/33qrqfWNzESlxk0gzkizKHgqTMWQHkxnMZPckAfwYJAiSlzzkb9C/kCDv2TFPyeQhTmwFSRBPonFiW56RrI3iJlLdbHY32Wyyl+ruqnvyUEVKRnKBAqq6q+4533e+U3U+1W81BEJAAINWClAoBUorlFIACApRCrGC0orohvgxBMRytgQFSscXghaL4vUlIKC1wgn8E1A2DugiWsd7a7Q4KK2jQGiURI8riZJEQCmFQoAoAQV8PZyglZxl+mqpCKQTDnsIYYTWRAGjBAxauxitAYUoDVqfM/I6WpEQx0SIrbWABm1Q5wzZVwlIBObs1AltiBCilUJbDSKIIkIlFoWJcCmDwiAIVs62gDAM6XY7uK7B8zwcrVHaQYmDxEGtBK8loBAxaBUBdYKz3QRUKBGHSoGyWISo3Cqm/hWKMx4kHJF0HdrtFuEoQBCKpTFyuXwcUhB5jQEUYkG0AApH7AgjAuKAsnFtYhHGwtPagIoZif+PUAAygmBEMBqQUikOuy30YEQqmQTXgAhK4uRVJMozcSqlcFQYIFjEKIyJxCUCaA0WBBuXID4QRBSCworgug7NRptQLIWJcXTWpb1XZWQDjFVoGxVC8RoJZ5oQjbYiCIKIEFqLPTvC8Pw8tBaR6B5rY0rFosQiYchwMCSfzYELmUwG7ToMBgNUd0B/9wDpD2LQ8n8O56wnRQSxlpC4tbRGx3RFgW0sj1gP2LjhhOmZaVwUgd9DRiG13T0GA5/iyGH7iwes/Oq3yaenEGv5GhEiONbGPawsgsIY8/WgcUCt9av6AVpZep0Ozfo+DAe49WPqmxsEaJ61GhTKZQo9y+f/9RMu/sIaBXXhVevG9Y/aMAyxhGjloI2cB7Niz5M474DzBCLWOidtnj5+hBkNsfe+5PjBI4JchsbSJR7v7vD9W9/iyru38ApZbFzGGHhcAou2olBW4yqF0RaDRWuFcTXKWGysHmtDRiKYIHozdA72efwfn+B3Tzk9blHbq5GSFIokc4tL1BpNekr4zgfvUxgfw5cw0lUQxBqKQDguhpTVtHb2aFVeks7kmFpeRhcLWJ1AtMKKjxKFFQftW0aqx4/++q9ore8w9+1bVKpVaq0W0zZF9aTLZK1JMZFlZC3DMCAloKyQcD1QCn80xNoQYxROcNzmk4//nc37X+IddSCdYnr1KpnFq4SFC9z45nXSGRfxFQfVfWytxvbLJ3z6+X1uXb1Oxx/gFHIkFqdpNDrkFxe4+fO3uHHjBjOXL1I/apLNZNGHPg8P6ySzOSanyqTSKawVzNrs9J0f/8M/cnLQIDCGoYQc1RscHbbZ2jvA8bIUcpM8e/CMva+e09zbpddpodJJnGyGk75Pupgnn8uycnOV7/72Dxj0fObn55mcvcD+3i6jVouvPvw3/uajD/nZV4/Z2dpkbLxMuVzGjBnutBtH6EKGSlqo+6e0Dps0Ky9p1vfptEfUK12+unePysOHPNl6SnEqz9zyEo1ul/Wnz0nnckyUCqRyOZaXVtjd2OLyzy2TKWTZ+PQ+J5V9Tg5bTL25wvzCAptbG3zx5X3efPM6jk1nOc4kGL8yx2whScZ1ae+8INipwcDnaOspB3t70G7g9PqsS4uxq5N4nTK1oxa9kx7Pnq4z/s4txgsZ9ncrJByXdLnI8PSUw/tPcZIe13/tFykszJB0k6y+dYO//eEPuXv3LmZxdvrO1KUL5Ep5SukspUKRTCqN6geYoabdPUX6LaZ1wKVMlqob0hz69Ds9tOcyNzWNHw6oNGtYscyXZ0ikUsy8scijL37KT/7pXzHpBJe+uUq+kMMYTaE4RrFY5LPPPkdbCSiVckxNlqk06mxtv+Dx+ha1Xp+tTotm55iUWCZcRcb6pFyHK4srKO2STSRRSc3F6WmSrsuwfULroE5pcgqtDJt7FeqFBAu31zg9aiGBJbSCVorLl+eYKJejV3Eum6XRqON6LrlUloOXVVAhJwnFUBQnxrIvAUXPZWF+nqsrSwyGfY6OmxRLeQhD0mmPpZmL+N0ehXIJG4RU96ssXb/Km2tv8ezpE3zfR40CjEmQTqWYvTSL43ke8wvz7GxvksslWFla5trKColkgn4QonHQ3Q6DVovJfIlDY3nw8KfcWLuJdseYmipDKOSyOdxRyMiGpLIZRsGIRr3O26s3CawllctgAb/TwUukySXTjE9MoD3PI5FIkEwmaR0dsbm9zXG3w+mgT7vXpXV6wtGgh5kao2oHHHc6NJpNHj16zGAwpNf3mZycZHrqAv1Ol4lL02jPRaxlMBySzmYwnksmn6PX6yJK4fs+En/KHcc4hGGI6zjMXJxhbm4ez3NJpBJoq1HiYEMf7SrEOKgRPHi8Tt8PCEbC4sIyg16XUTCiNF5mdvkyoQYtGq01Yi2Fcon+qE9ld49irkguW8Bay3AwxAmtpdvpMjU1SbvdY79aZRSEaKDbOiGlHLykQVIO37j9DoVkgWurN6hWqlyYvkRoFUfHJwRhQC6RwGRSWAWeccnnCzQPDzHGIZVOU56YwIgimUqhtKF1fIzT6Q7Yrx2wenOJXr9Hbb/O4cERz59vsbdbYT6b5Y1rVxhkU2TyYywuLKIR1m6tUSzkeL6xwfhYkY2NTd56ew0nkYDQoh2XhYUFNp6tMxyMyGZyeE4ChcLzkgT+gMp+DXPz2tIdozXGwMzFKWYvXmTg99nc2sUfQlp7JDNpXuw3qL6osfV8m3/5+C6np22y2TQSBuy+2Mb1XL7zve/heonI4sSm5u7HH3H1+jXGymWMNrieh0LTOKjxn/c+xfzB735w59N7/00ykeFlpcqLnZesP9tke2eXX/+t98nn0jTahxTHSqQ8j9N2m2I+R+f0mNN2i+dPn5BNJ3j3vXdZvLyIFc4H2LFSiS8++5zt7W1Wb66SSCSikUKEj/75Q5Tj4dx+91t8+dl9fvzJ/5AvlBj2ezTrdb6xdoPf/OC7SM/n9PSEXD6PE0Y+wHM9et0Bw6FPOpNkYnKc0uQk/X4PUQa0JgRcY3j/B7/Bn/zpn/EXf/6XvPfee2itefCzB6w/ecIf/tEf4xijuX37HaqVJvVmExsMuDAzydtvXefF9joyCrFBSOOwjgqjqcZxHGQEjmPAFDnpOOAaMoUijpfCuC4Aw2HAG8tX+JVf/iX+7u9/xMMHD1FKg1h+//d+h/n5OdTmw0+kWatz3Opy3Gnj905wtJD1PHTSA6siT+gYVDwlG2MIgwE2HJFOJymWipTHJyiOjeMl02jHRRMNIcEooN8P2N7eoV6vE1rLwvwsS5cX0G4S1aqsiw1ClDKgQWxIGAYoEZRx0EqjlT53OWcrsgj2fODXBlzXi02MRqFfuTFROI4TDbaxlwzDAGNcHMdNYuNhNHK6Z7tz7oJeBf3/r4XIJ+gzJy2KV+4x+ikQgTByyUprtJNElOJ/AZrOH0v4dv6sAAAAAElFTkSuQmCC',\n",
       "   's3_bucket': 'lucialedezma-workflow-project',\n",
       "   's3_key': 'test/minibike_s_000290.png',\n",
       "   'inferences': []},\n",
       "  'inferences': '[0.95337975025177, 0.04662025347352028]'}}"
      ]
     },
     "execution_count": 7,
     "metadata": {},
     "output_type": "execute_result"
    }
   ],
   "source": [
    "result2"
   ]
  },
  {
   "cell_type": "code",
   "execution_count": null,
   "id": "adc84998-247c-4757-8bb8-ee340a43a57b",
   "metadata": {},
   "outputs": [],
   "source": [
    "result3 = l3.lambda_handler(event=result2, context=None)"
   ]
  }
 ],
 "metadata": {
  "instance_type": "ml.t3.medium",
  "kernelspec": {
   "display_name": "Python 3 (Data Science)",
   "language": "python",
   "name": "python3__SAGEMAKER_INTERNAL__arn:aws:sagemaker:us-east-1:081325390199:image/datascience-1.0"
  },
  "language_info": {
   "codemirror_mode": {
    "name": "ipython",
    "version": 3
   },
   "file_extension": ".py",
   "mimetype": "text/x-python",
   "name": "python",
   "nbconvert_exporter": "python",
   "pygments_lexer": "ipython3",
   "version": "3.7.10"
  }
 },
 "nbformat": 4,
 "nbformat_minor": 5
}
