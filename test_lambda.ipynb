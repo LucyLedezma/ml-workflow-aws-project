{
 "cells": [
  {
   "cell_type": "code",
   "execution_count": 2,
   "id": "0bd17086-2c4d-400c-9fde-8d3c64368ed7",
   "metadata": {
    "tags": []
   },
   "outputs": [],
   "source": [
    "import lambda1 as l1\n",
    "import lambda2 as l2\n",
    "import lambda3 as l3"
   ]
  },
  {
   "cell_type": "code",
   "execution_count": 3,
   "id": "c4b2ad50-9f44-42fe-9e4d-e7a70da1aa54",
   "metadata": {
    "tags": []
   },
   "outputs": [],
   "source": [
    "event = {\"image_data\": \"\", \"s3_bucket\": \"lucialedezma-workflow-project\", \"s3_key\": \"test/bicycle_s_000776.png\"}"
   ]
  },
  {
   "cell_type": "code",
   "execution_count": 4,
   "id": "959f92f4-5d1f-4890-ad82-e980bbe36023",
   "metadata": {
    "tags": []
   },
   "outputs": [
    {
     "name": "stdout",
     "output_type": "stream",
     "text": [
      "Event: dict_keys(['image_data', 's3_bucket', 's3_key'])\n"
     ]
    }
   ],
   "source": [
    "result1 = l1.lambda_handler(event=event, context=None)"
   ]
  },
  {
   "cell_type": "code",
   "execution_count": 5,
   "id": "f1fde0c7-6e4b-44a3-9f35-aa616230cbf4",
   "metadata": {
    "tags": []
   },
   "outputs": [
    {
     "data": {
      "text/plain": [
       "{'statusCode': 200,\n",
       " 'body': {'image_data': b'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',\n",
       "  's3_bucket': 'lucialedezma-workflow-project',\n",
       "  's3_key': 'test/bicycle_s_000776.png',\n",
       "  'inferences': []}}"
      ]
     },
     "execution_count": 5,
     "metadata": {},
     "output_type": "execute_result"
    }
   ],
   "source": [
    "result1"
   ]
  },
  {
   "cell_type": "code",
   "execution_count": 6,
   "id": "b56814d3-5177-413a-9172-7337eaa26e82",
   "metadata": {
    "tags": []
   },
   "outputs": [],
   "source": [
    "result2 = l2.lambda_handler(event=result1, context=None)"
   ]
  },
  {
   "cell_type": "code",
   "execution_count": 7,
   "id": "c218fe42-1e1c-492c-aa31-9715d9b281ac",
   "metadata": {
    "tags": []
   },
   "outputs": [
    {
     "data": {
      "text/plain": [
       "{'statusCode': 200,\n",
       " 'body': {'image_data': b'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',\n",
       "  's3_bucket': 'lucialedezma-workflow-project',\n",
       "  's3_key': 'test/bicycle_s_000776.png',\n",
       "  'inferences': [0.9999377727508545, 6.218116322997957e-05]}}"
      ]
     },
     "execution_count": 7,
     "metadata": {},
     "output_type": "execute_result"
    }
   ],
   "source": [
    "result2"
   ]
  },
  {
   "cell_type": "code",
   "execution_count": 8,
   "id": "adc84998-247c-4757-8bb8-ee340a43a57b",
   "metadata": {
    "tags": []
   },
   "outputs": [],
   "source": [
    "result3 = l3.lambda_handler(event=result2, context=None)"
   ]
  },
  {
   "cell_type": "code",
   "execution_count": 9,
   "id": "1e3303af-0797-4d3b-9fe2-92a8adf45567",
   "metadata": {
    "tags": []
   },
   "outputs": [
    {
     "data": {
      "text/plain": [
       "{'statusCode': 200,\n",
       " 'body': {'image_data': b'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',\n",
       "  's3_bucket': 'lucialedezma-workflow-project',\n",
       "  's3_key': 'test/bicycle_s_000776.png',\n",
       "  'inferences': [0.9999377727508545, 6.218116322997957e-05]}}"
      ]
     },
     "execution_count": 9,
     "metadata": {},
     "output_type": "execute_result"
    }
   ],
   "source": [
    "result3"
   ]
  },
  {
   "cell_type": "code",
   "execution_count": null,
   "id": "320c1373-6575-473c-9490-3c1481ead85e",
   "metadata": {},
   "outputs": [],
   "source": []
  }
 ],
 "metadata": {
  "instance_type": "ml.t3.medium",
  "kernelspec": {
   "display_name": "Python 3 (Data Science)",
   "language": "python",
   "name": "python3__SAGEMAKER_INTERNAL__arn:aws:sagemaker:us-east-1:081325390199:image/datascience-1.0"
  },
  "language_info": {
   "codemirror_mode": {
    "name": "ipython",
    "version": 3
   },
   "file_extension": ".py",
   "mimetype": "text/x-python",
   "name": "python",
   "nbconvert_exporter": "python",
   "pygments_lexer": "ipython3",
   "version": "3.7.10"
  }
 },
 "nbformat": 4,
 "nbformat_minor": 5
}
